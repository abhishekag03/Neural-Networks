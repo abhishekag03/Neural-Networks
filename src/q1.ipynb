{
 "cells": [
  {
   "cell_type": "code",
   "execution_count": 5,
   "metadata": {},
   "outputs": [],
   "source": [
    "import numpy\n",
    "import h5py\n",
    "from sklearn.model_selection import train_test_split\n",
    "import pickle\n",
    "from sklearn.metrics import accuracy_score\n",
    "import matplotlib.pyplot as plt\n",
    "from numpy.random import normal\n",
    "from sklearn.neural_network import MLPClassifier"
   ]
  },
  {
   "cell_type": "code",
   "execution_count": 2,
   "metadata": {},
   "outputs": [],
   "source": [
    "def sigmoid(z):\n",
    "    return (1.0/(1.0 + numpy.exp(-1*z)))\n",
    "\n",
    "def sigmoid_derivative(z):\n",
    "    return z*(1-z)\n",
    "\n",
    "\n",
    "def softmax(z):\n",
    "    exp_z = numpy.exp(z)\n",
    "    return exp_z/exp_z.sum()"
   ]
  },
  {
   "cell_type": "code",
   "execution_count": 3,
   "metadata": {},
   "outputs": [],
   "source": [
    "def update_weights(weights, bias, delta_weights, delta_biases, learning_rate):    \n",
    "    \n",
    "    for i in range(len(weights)):     \n",
    "        \n",
    "        change_weight = delta_weights[-1*i - 1]\n",
    "        change = numpy.multiply(change_weight, learning_rate)\n",
    "        weights[i] = weights[i] - change\n",
    "        chamge_bias = delta_biases[-1*i - 1]\n",
    "        change = numpy.multiply(chamge_bias, learning_rate)\n",
    "        bias[i] = bias[i] - change\n",
    "\n",
    "    return weights, bias"
   ]
  },
  {
   "cell_type": "code",
   "execution_count": 9,
   "metadata": {},
   "outputs": [],
   "source": [
    "def forward_prop(input_vector, weights, bias):\n",
    "    \n",
    "    #num_layers is total layers\n",
    "    num_layers = len(weights) + 1 \n",
    "    layer_output = [0]*(num_layers)\n",
    "    input_vector = numpy.reshape(input_vector, (len(input_vector), 1))\n",
    "    #     print(\"input vector shape\" , input_vector.shape)\n",
    "    weights = numpy.array(weights)\n",
    "\n",
    "    layer_output[0] = input_vector\n",
    "    for i in range(num_layers-1):\n",
    "        z = numpy.dot(weights[i].T, input_vector) + bias[i]\n",
    "        if (i != len(weights) - 1):\n",
    "            output_data = sigmoid(z)\n",
    "        else:\n",
    "            output_data = softmax(z)\n",
    "        input_vector = output_data\n",
    "        layer_output[i+1] = output_data\n",
    "    \n",
    "#     layer_output[num_layers - 1] = softmax(output_data)\n",
    "#     print(\"forw len\",len(layer_output))\n",
    "    return (layer_output)\n",
    "#         output_data = sigmoid(numpy.dot(weights[i].T, input_vector) + bias[i])\n",
    "#         input_vector = output_data\n",
    "#         layer_output[i+1] = output_data\n",
    "\n",
    "#     #layer_output[num_layers - 1] = softmax(output_data)\n",
    "# #     print(\"forw len\",len(layer_output))\n",
    "#     return (layer_output)"
   ]
  },
  {
   "cell_type": "code",
   "execution_count": 4,
   "metadata": {},
   "outputs": [],
   "source": [
    "def backward_prop(weights, bias, layer_output, encoded_y):\n",
    "#     len(layer_output) \n",
    "    count = 0\n",
    "    delta = [] \n",
    "    delta_weights = []\n",
    "    delta_biases = []\n",
    "#     print(\"length\", len(layer_output))\n",
    "    for i in range(len(layer_output) - 1, 0, -1):\n",
    "        if (i == len(layer_output) - 1):  #softmax\n",
    "            encoded_y = numpy.reshape(encoded_y, (2, 1))\n",
    "            error = layer_output[i] - encoded_y\n",
    "#             print(\"shape check\" , layer_output[i].shape, encoded_y.shape)\n",
    "#             print(error.shape)\n",
    "            delta.append(error)\n",
    "            mul =  numpy.dot(layer_output[i - 1], error.T)\n",
    "#             print(delta_w.shape)\n",
    "            delta_biases.append(error)\n",
    "            delta_weights.append(mul)\n",
    "#             print(delta_b.shape)\n",
    "        else:\n",
    "            if (len(layer_output[i].shape) == 1):\n",
    "                layer_output[i] = numpy.expand_dims(layer_output[i], axis = 0)\n",
    "#                 print(\"if condition ran\")\n",
    "            mul = numpy.dot(layer_output[-(count+2)], error.T)\n",
    "            delta_weights.append(mul)\n",
    "        \n",
    "            error = numpy.dot(weights[-1*count], delta[-1]) * sigmoid_derivative(layer_output[i])\n",
    "            delta.append(error)\n",
    "            \n",
    "            delta_biases.append(error)\n",
    "#             print(\"ELSE CHALAA\")\n",
    "    \n",
    "        count+=1\n",
    "        \n",
    "    return delta_weights, delta_biases, encoded_y"
   ]
  },
  {
   "cell_type": "code",
   "execution_count": 6,
   "metadata": {},
   "outputs": [],
   "source": [
    "with h5py.File('MNIST_Subset.h5', 'r') as dataH5:\n",
    "    features = numpy.array(list(dataH5['X']))    \n",
    "    labels = numpy.array(list(dataH5['Y']))\n",
    "\n",
    "features = numpy.reshape(features, (14251, 784))\n",
    "x_train, x_test, y_train, y_test = train_test_split(features, labels, test_size = 0.2)"
   ]
  },
  {
   "cell_type": "code",
   "execution_count": 7,
   "metadata": {},
   "outputs": [
    {
     "name": "stdout",
     "output_type": "stream",
     "text": [
      "(11400, 2)\n"
     ]
    }
   ],
   "source": [
    "encoded_y = numpy.zeros((len(y_train),2))\n",
    "#                         [[0]*2]*(len(y_train))\n",
    "for i in range(len(y_train)):\n",
    "    if (y_train[i] == 7):\n",
    "        encoded_y[i][0] = 1\n",
    "    else:\n",
    "        encoded_y[i][1] = 1        \n",
    "# print(count, count2)        \n",
    "print(encoded_y.shape)"
   ]
  },
  {
   "cell_type": "code",
   "execution_count": 42,
   "metadata": {
    "scrolled": true
   },
   "outputs": [
    {
     "name": "stderr",
     "output_type": "stream",
     "text": [
      "c:\\users\\lenovo\\appdata\\local\\programs\\python\\python36\\lib\\site-packages\\ipykernel_launcher.py:2: RuntimeWarning: overflow encountered in exp\n",
      "  \n"
     ]
    },
    {
     "name": "stdout",
     "output_type": "stream",
     "text": [
      "Epoc  1  TRAIN  0.9226315789473685\n",
      "Epoc  1  TEST  0.9266923886355665\n",
      "Epoc  2  TRAIN  0.849561403508772\n",
      "Epoc  2  TEST  0.8540862855138548\n",
      "Epoc  3  TRAIN  0.9073684210526316\n",
      "Epoc  3  TEST  0.9175727814801824\n",
      "Epoc  4  TRAIN  0.9246491228070175\n",
      "Epoc  4  TEST  0.928796913363732\n",
      "Epoc  5  TRAIN  0.8985964912280702\n",
      "Epoc  5  TEST  0.895826025955805\n",
      "Epoc  6  TRAIN  0.9007017543859649\n",
      "Epoc  6  TEST  0.9081024202034373\n",
      "Epoc  7  TRAIN  0.8481578947368421\n",
      "Epoc  7  TEST  0.8558400561206594\n",
      "Epoc  8  TRAIN  0.7447368421052631\n",
      "Epoc  8  TEST  0.7481585408628552\n",
      "Epoc  9  TRAIN  0.8467543859649123\n",
      "Epoc  9  TEST  0.8502279901788846\n",
      "Epoc  10  TRAIN  0.8881578947368421\n",
      "Epoc  10  TEST  0.8926692388635566\n",
      "Epoc  11  TRAIN  0.8313157894736842\n",
      "Epoc  11  TEST  0.8414591371448614\n",
      "Epoc  12  TRAIN  0.901140350877193\n",
      "Epoc  12  TEST  0.900385829533497\n",
      "Epoc  13  TRAIN  0.9013157894736842\n",
      "Epoc  13  TEST  0.9088039284461592\n",
      "Epoc  14  TRAIN  0.8975438596491228\n",
      "Epoc  14  TEST  0.9031918625043844\n",
      "Epoc  15  TRAIN  0.9035964912280702\n",
      "Epoc  15  TEST  0.9074009119607155\n",
      "Epoc  16  TRAIN  0.9002631578947369\n",
      "Epoc  16  TEST  0.90529638723255\n",
      "Epoc  17  TRAIN  0.9035087719298246\n",
      "Epoc  17  TEST  0.9084531743247983\n",
      "Epoc  18  TRAIN  0.895\n",
      "Epoc  18  TEST  0.9024903542616626\n",
      "Epoc  19  TRAIN  0.8868421052631579\n",
      "Epoc  19  TEST  0.881445106980007\n",
      "Epoc  20  TRAIN  0.8224561403508772\n",
      "Epoc  20  TEST  0.8260259558049807\n",
      "Epoc  21  TRAIN  0.8398245614035088\n",
      "Epoc  21  TEST  0.8418098912662224\n",
      "Epoc  22  TRAIN  0.8447368421052631\n",
      "Epoc  22  TEST  0.8432129077516661\n",
      "Epoc  23  TRAIN  0.8292982456140351\n",
      "Epoc  23  TEST  0.8397053665380568\n",
      "Epoc  24  TRAIN  0.7972807017543859\n",
      "Epoc  24  TEST  0.8155033321641529\n",
      "Epoc  25  TRAIN  0.8147368421052632\n",
      "Epoc  25  TEST  0.8351455629603648\n",
      "Epoc  26  TRAIN  0.8370175438596491\n",
      "Epoc  26  TEST  0.8509294984216065\n",
      "Epoc  27  TRAIN  0.8128070175438596\n",
      "Epoc  27  TEST  0.7986671343388285\n",
      "Epoc  28  TRAIN  0.71\n",
      "Epoc  28  TEST  0.6994037179936864\n",
      "Epoc  29  TRAIN  0.916578947368421\n",
      "Epoc  29  TEST  0.9221325850578744\n",
      "Epoc  30  TRAIN  0.9167543859649123\n",
      "Epoc  30  TEST  0.9189757979656261\n",
      "Epoc  31  TRAIN  0.8825438596491229\n",
      "Epoc  31  TEST  0.890915468256752\n",
      "Epoc  32  TRAIN  0.851140350877193\n",
      "Epoc  32  TEST  0.8565415643633812\n",
      "Epoc  33  TRAIN  0.8924561403508772\n",
      "Epoc  33  TEST  0.9000350754121361\n",
      "Epoc  34  TRAIN  0.8180701754385965\n",
      "Epoc  34  TEST  0.8309365135040336\n",
      "Epoc  35  TRAIN  0.887280701754386\n",
      "Epoc  35  TEST  0.8937215012276394\n",
      "Epoc  36  TRAIN  0.8801754385964913\n",
      "Epoc  36  TEST  0.881445106980007\n",
      "Epoc  37  TRAIN  0.8705263157894737\n",
      "Epoc  37  TEST  0.8681164503682919\n",
      "Epoc  38  TRAIN  0.877719298245614\n",
      "Epoc  38  TEST  0.8747807786741494\n",
      "Epoc  39  TRAIN  0.8728947368421053\n",
      "Epoc  39  TEST  0.8789898281304805\n",
      "Epoc  40  TRAIN  0.9017543859649123\n",
      "Epoc  40  TEST  0.904945633111189\n",
      "Epoc  41  TRAIN  0.8951754385964912\n",
      "Epoc  41  TEST  0.8902139600140302\n",
      "Epoc  42  TRAIN  0.8905263157894737\n",
      "Epoc  42  TEST  0.8881094352858646\n",
      "Epoc  43  TRAIN  0.9045614035087719\n",
      "Epoc  43  TEST  0.9042441248684672\n",
      "Epoc  44  TRAIN  0.900438596491228\n",
      "Epoc  44  TEST  0.904945633111189\n",
      "Epoc  45  TRAIN  0.908157894736842\n",
      "Epoc  45  TEST  0.9179235356015433\n",
      "Epoc  46  TRAIN  0.9149122807017543\n",
      "Epoc  46  TEST  0.9224833391792353\n",
      "Epoc  47  TRAIN  0.8775438596491228\n",
      "Epoc  47  TEST  0.8656611715187653\n",
      "Epoc  48  TRAIN  0.8892105263157895\n",
      "Epoc  48  TEST  0.8951245177130831\n",
      "Epoc  49  TRAIN  0.8907017543859649\n",
      "Epoc  49  TEST  0.8933707471062785\n",
      "Epoc  50  TRAIN  0.8830701754385964\n",
      "Epoc  50  TEST  0.8877586811645037\n"
     ]
    }
   ],
   "source": [
    "#num_layers is the number of hidden layers\n",
    "learning_rate = 0.1\n",
    "weights = []\n",
    "bias = []\n",
    "num_layers = 5\n",
    "num_nodes = [784, 100, 100, 50, 2]\n",
    "\n",
    "#random weights initialization\n",
    "for i in range(num_layers-1):\n",
    "    weights.append(numpy.random.normal(0, 0.1, (num_nodes[i], num_nodes[i+1])))\n",
    "    bias.append(numpy.random.normal(0, 0.1, (num_nodes[i+1], 1)))\n",
    "\n",
    "layer_output = [0]*(num_layers)\n",
    "input_data = x_train\n",
    "delta_array = []\n",
    "flag = 0\n",
    "epochs = 50\n",
    "batch_size = 20\n",
    "weights = numpy.array(weights)\n",
    "train_accuracy = []\n",
    "test_accuracy = []\n",
    "for i in range(epochs):\n",
    "    for j in range(len(x_train)):\n",
    "        layer_output = forward_prop(x_train[j], weights, bias)\n",
    "#         print(\"check\", len(layer_output))\n",
    "        if (flag == 0):\n",
    "            delta_weights, delta_biases, y = backward_prop(weights, bias, layer_output, encoded_y[j])\n",
    "            del_weigh = delta_weights\n",
    "            del_bia = delta_biases\n",
    "#             print(\"back called\")\n",
    "            flag = 1\n",
    "        else:\n",
    "            delta_weights, delta_biases, y = backward_prop(weights, bias, layer_output, encoded_y[j])\n",
    "#             print(\"else executed\")\n",
    "\n",
    "            for k in range(len(delta_weights)):\n",
    "                old_delta = del_weigh[k]\n",
    "                new_delta = delta_weights[k]\n",
    "                del_weigh[k] = numpy.add(old_delta, new_delta)\n",
    "                \n",
    "            for k in range(len(delta_biases)):\n",
    "                old_delta = del_bia[k]\n",
    "                new_delta = delta_biases[k]\n",
    "                del_bia[k] = numpy.add(old_delta, new_delta)\n",
    "\n",
    "        if (j%batch_size == 0):\n",
    "            if (j!=0):\n",
    "                delta_array = numpy.array(delta_array)\n",
    "                for k in range(len(del_weigh)):\n",
    "                    new_weight = numpy.divide(del_weigh[k], batch_size)\n",
    "                    del_weigh[k] = new_weight\n",
    "                    \n",
    "                for k in range(len(del_bia)):\n",
    "                    new_bias = numpy.divide(del_bia[k], batch_size)\n",
    "                    del_bia[k] = new_bias\n",
    "                                                                #                 delta_array = delta_array/20\n",
    "                weights, bias = update_weights(weights, bias, del_weigh, del_bia, learning_rate)\n",
    "                flag = 0\n",
    "                del_weigh = []\n",
    "                del_bia = []\n",
    "\n",
    "\n",
    "\n",
    "    # print(output_data)\n",
    "    # print(layer_output)\n",
    "    # print(output_data.shape)\n",
    "    train_predictions = [9]*len(x_train)\n",
    "#     train_predictions = numpy.empty(len(train_predictions))\n",
    "#     train_predictions = numpy.full(7)\n",
    "\n",
    "    for k in range(len(x_train)):\n",
    "        output = forward_prop(x_train[k], weights, bias)\n",
    "        #print(output[len(output) - 1])\n",
    "        if (output[len(output) - 1][0] > output[len(output) - 1][1]):\n",
    "            train_predictions[k] = 7\n",
    "        \n",
    "#     print (train_predictions)\n",
    "    accu = accuracy_score(train_predictions, y_train)\n",
    "    print(\"Epoc \" , i+1 , \" TRAIN \", accu)\n",
    "    train_accuracy.append(accu)\n",
    "    \n",
    "    test_predictions = [9]*len(x_test)\n",
    "\n",
    "    \n",
    "    \n",
    "    for k in range(len(x_test)):\n",
    "        output = forward_prop(x_test[k], weights, bias)\n",
    "    #print(output[len(output) - 1])\n",
    "        if (output[len(output) - 1][0] > output[len(output) - 1][1]):\n",
    "            test_predictions[k] = 7\n",
    "    accu = accuracy_score(test_predictions, y_test)\n",
    "    test_accuracy.append(accu)\n",
    "#     print (train_predictions)\n",
    "    print(\"Epoc \" , i+1 , \" TEST \", accu)"
   ]
  },
  {
   "cell_type": "code",
   "execution_count": 44,
   "metadata": {},
   "outputs": [],
   "source": [
    "pickle_out = open(\"weights_3\",\"wb\")\n",
    "pickle.dump(weights, pickle_out)\n",
    "pickle_out.close()\n",
    "pickle_out = open(\"bias_3\", \"wb\")\n",
    "pickle.dump(bias, pickle_out)\n",
    "pickle_out.close()"
   ]
  },
  {
   "cell_type": "code",
   "execution_count": 4,
   "metadata": {},
   "outputs": [
    {
     "ename": "NameError",
     "evalue": "name 'numpy' is not defined",
     "output_type": "error",
     "traceback": [
      "\u001b[1;31m---------------------------------------------------------------------------\u001b[0m",
      "\u001b[1;31mNameError\u001b[0m                                 Traceback (most recent call last)",
      "\u001b[1;32m<ipython-input-4-d3b2ffa26b95>\u001b[0m in \u001b[0;36m<module>\u001b[1;34m()\u001b[0m\n\u001b[1;32m----> 1\u001b[1;33m \u001b[0mx_plot\u001b[0m \u001b[1;33m=\u001b[0m \u001b[0mnumpy\u001b[0m\u001b[1;33m.\u001b[0m\u001b[0marange\u001b[0m\u001b[1;33m(\u001b[0m\u001b[1;36m1\u001b[0m\u001b[1;33m,\u001b[0m \u001b[0mlen\u001b[0m\u001b[1;33m(\u001b[0m\u001b[0mtrain_accuracy\u001b[0m\u001b[1;33m)\u001b[0m \u001b[1;33m+\u001b[0m \u001b[1;36m1\u001b[0m\u001b[1;33m)\u001b[0m\u001b[1;33m\u001b[0m\u001b[0m\n\u001b[0m\u001b[0;32m      2\u001b[0m \u001b[0mplt\u001b[0m\u001b[1;33m.\u001b[0m\u001b[0mplot\u001b[0m\u001b[1;33m(\u001b[0m\u001b[0mx_plot\u001b[0m\u001b[1;33m,\u001b[0m \u001b[0mtrain_accuracy\u001b[0m\u001b[1;33m)\u001b[0m\u001b[1;33m\u001b[0m\u001b[0m\n\u001b[0;32m      3\u001b[0m \u001b[0mplt\u001b[0m\u001b[1;33m.\u001b[0m\u001b[0mshow\u001b[0m\u001b[1;33m(\u001b[0m\u001b[1;33m)\u001b[0m\u001b[1;33m\u001b[0m\u001b[0m\n\u001b[0;32m      4\u001b[0m \u001b[1;31m# plt.plot(x_plot, test_accuracy)\u001b[0m\u001b[1;33m\u001b[0m\u001b[1;33m\u001b[0m\u001b[0m\n",
      "\u001b[1;31mNameError\u001b[0m: name 'numpy' is not defined"
     ]
    }
   ],
   "source": [
    "x_plot = list(range(1, len(train_accuracy) + 1))\n",
    "x_plot = numpy.array(x_plot)\n",
    "plt.plot(x_plot, train_accuracy)\n",
    "plt.show()\n",
    "# plt.plot(x_plot, test_accuracy)\n"
   ]
  },
  {
   "cell_type": "code",
   "execution_count": 46,
   "metadata": {},
   "outputs": [
    {
     "data": {
      "image/png": "[encoded data removed]",
      "text/plain": [
       "<Figure size 432x288 with 1 Axes>"
      ]
     },
     "metadata": {
      "needs_background": "light"
     },
     "output_type": "display_data"
    }
   ],
   "source": [
    "x_plot = list(range(1, len(test_accuracy) + 1))\n",
    "x_plot = numpy.array(x_plot)\n",
    "plt.plot(x_plot, test_accuracy)\n",
    "plt.show()"
   ]
  },
  {
   "cell_type": "code",
   "execution_count": 50,
   "metadata": {},
   "outputs": [
    {
     "data": {
      "text/plain": [
       "MLPClassifier(activation='logistic', alpha=0.01, batch_size='auto',\n",
       "       beta_1=0.9, beta_2=0.999, early_stopping=False, epsilon=1e-08,\n",
       "       hidden_layer_sizes=(100,), learning_rate='constant',\n",
       "       learning_rate_init=0.001, max_iter=200, momentum=0.9,\n",
       "       nesterovs_momentum=True, power_t=0.5, random_state=None,\n",
       "       shuffle=True, solver='adam', tol=0.0001, validation_fraction=0.1,\n",
       "       verbose=False, warm_start=False)"
      ]
     },
     "execution_count": 50,
     "metadata": {},
     "output_type": "execute_result"
    }
   ],
   "source": [
    "classifier = MLPClassifier(activation = 'logistic', alpha = 0.01)\n",
    "classifier.fit(x_train, y_train)"
   ]
  },
  {
   "cell_type": "code",
   "execution_count": 54,
   "metadata": {},
   "outputs": [
    {
     "data": {
      "text/plain": [
       "0.9925438596491228"
      ]
     },
     "execution_count": 54,
     "metadata": {},
     "output_type": "execute_result"
    }
   ],
   "source": [
    "pred = classifier.predict(x_train)\n",
    "accuracy_score(pred, y_train)"
   ]
  },
  {
   "cell_type": "code",
   "execution_count": 52,
   "metadata": {},
   "outputs": [
    {
     "data": {
      "text/plain": [
       "MLPClassifier(activation='logistic', alpha=0.01, batch_size='auto',\n",
       "       beta_1=0.9, beta_2=0.999, early_stopping=False, epsilon=1e-08,\n",
       "       hidden_layer_sizes=(100, 50, 50), learning_rate='constant',\n",
       "       learning_rate_init=0.001, max_iter=200, momentum=0.9,\n",
       "       nesterovs_momentum=True, power_t=0.5, random_state=None,\n",
       "       shuffle=True, solver='adam', tol=0.0001, validation_fraction=0.1,\n",
       "       verbose=False, warm_start=False)"
      ]
     },
     "execution_count": 52,
     "metadata": {},
     "output_type": "execute_result"
    }
   ],
   "source": [
    "classifier2 = MLPClassifier(activation = 'logistic', alpha = 0.01, hidden_layer_sizes=(100, 50, 50))\n",
    "classifier2.fit(x_train, y_train)"
   ]
  },
  {
   "cell_type": "code",
   "execution_count": 56,
   "metadata": {},
   "outputs": [
    {
     "data": {
      "text/plain": [
       "0.9740441950192915"
      ]
     },
     "execution_count": 56,
     "metadata": {},
     "output_type": "execute_result"
    }
   ],
   "source": [
    "pred = classifier2.predict(x_test)\n",
    "accuracy_score(pred, y_test)"
   ]
  }
 ],
 "metadata": {
  "kernelspec": {
   "display_name": "Python 3",
   "language": "python",
   "name": "python3"
  },
  "language_info": {
   "codemirror_mode": {
    "name": "ipython",
    "version": 3
   },
   "file_extension": ".py",
   "mimetype": "text/x-python",
   "name": "python",
   "nbconvert_exporter": "python",
   "pygments_lexer": "ipython3",
   "version": "3.6.1"
  }
 },
 "nbformat": 4,
 "nbformat_minor": 2
}
