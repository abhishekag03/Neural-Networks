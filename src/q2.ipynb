{
 "cells": [
  {
   "cell_type": "code",
   "execution_count": 33,
   "metadata": {},
   "outputs": [],
   "source": [
    "import torchvision\n",
    "from torchvision import models\n",
    "import pickle\n",
    "import numpy\n",
    "import tensorflow as tf\n",
    "import torch\n",
    "from tqdm import tqdm_notebook as tqdm\n",
    "from torchvision import transforms\n",
    "from sklearn import svm\n",
    "from sklearn.svm import SVC\n",
    "from sklearn.svm import LinearSVC\n",
    "from sklearn.model_selection import  GridSearchCV\n",
    "from sklearn.metrics import accuracy_score\n",
    "from sklearn.metrics import roc_curve, auc\n",
    "import matplotlib.pyplot as plt"
   ]
  },
  {
   "cell_type": "code",
   "execution_count": 11,
   "metadata": {},
   "outputs": [],
   "source": [
    "train_data = pickle.load( open( \"./data/Q2/train_CIFAR.pickle\", \"rb\" ) )\n",
    "num_images = len(train_data['X'])\n",
    "test_data = pickle.load( open( \"./data/Q2/test_CIFAR.pickle\", \"rb\" ) )"
   ]
  },
  {
   "cell_type": "code",
   "execution_count": 12,
   "metadata": {},
   "outputs": [],
   "source": [
    "alexnet_model = models.alexnet(pretrained = True)"
   ]
  },
  {
   "cell_type": "code",
   "execution_count": 20,
   "metadata": {},
   "outputs": [],
   "source": [
    "feature_array = [0]*num_images\n",
    "for i in range(len(train_data['X'])):\n",
    "    feature_array[i] = numpy.reshape(train_data['X'][i], (32, 32, 3))"
   ]
  },
  {
   "cell_type": "code",
   "execution_count": 22,
   "metadata": {},
   "outputs": [],
   "source": [
    "for i in range(len(feature_array)):\n",
    "    img = transforms.ToPILImage()(feature_array[i])\n",
    "    feature_array[i] = transforms.Resize((224, 224))(img)"
   ]
  },
  {
   "cell_type": "code",
   "execution_count": 23,
   "metadata": {},
   "outputs": [],
   "source": [
    "pickle_out = open(\"resized_train_images.pickle\",\"wb\")\n",
    "pickle.dump(feature_array, pickle_out)\n",
    "pickle_out.close()"
   ]
  },
  {
   "cell_type": "code",
   "execution_count": 24,
   "metadata": {},
   "outputs": [
    {
     "data": {
      "application/vnd.jupyter.widget-view+json": {
       "model_id": "025e495f98b44c8a94d7b81203d55cb7",
       "version_major": 2,
       "version_minor": 0
      },
      "text/plain": [
       "HBox(children=(IntProgress(value=0, max=10000), HTML(value='')))"
      ]
     },
     "metadata": {},
     "output_type": "display_data"
    },
    {
     "name": "stdout",
     "output_type": "stream",
     "text": [
      "\n"
     ]
    }
   ],
   "source": [
    "# feature_array = numpy.array(feature_array)\n",
    "tensor_array = []\n",
    "for i in tqdm(range(len(feature_array))):\n",
    "    tensor_array.append(transforms.ToTensor()(feature_array[i]))"
   ]
  },
  {
   "cell_type": "code",
   "execution_count": 68,
   "metadata": {},
   "outputs": [
    {
     "data": {
      "application/vnd.jupyter.widget-view+json": {
       "model_id": "5a6322c2a9ae40f28f1fe5d871dbe405",
       "version_major": 2,
       "version_minor": 0
      },
      "text/plain": [
       "HBox(children=(IntProgress(value=0, max=2000), HTML(value='')))"
      ]
     },
     "metadata": {},
     "output_type": "display_data"
    },
    {
     "name": "stdout",
     "output_type": "stream",
     "text": [
      "\n"
     ]
    }
   ],
   "source": [
    "test_feature_array = [0]*num_images\n",
    "for i in tqdm(range(len(test_data['X']))):\n",
    "    test_feature_array[i] = numpy.reshape(test_data['X'][i], (32, 32, 3))\n",
    "    img = transforms.ToPILImage()(test_feature_array[i])\n",
    "    test_feature_array[i] = transforms.Resize((224, 224))(img)\n",
    "    test_feature_array[i] = transforms.ToTensor()(test_feature_array[i])"
   ]
  },
  {
   "cell_type": "code",
   "execution_count": 69,
   "metadata": {},
   "outputs": [],
   "source": [
    "pickle_out = open(\"test_fc8_features.pickle\",\"wb\")"
   ]
  },
  {
   "cell_type": "code",
   "execution_count": 71,
   "metadata": {},
   "outputs": [
    {
     "data": {
      "application/vnd.jupyter.widget-view+json": {
       "model_id": "8da6b8e1148a43ccb9369641cd831b20",
       "version_major": 2,
       "version_minor": 0
      },
      "text/plain": [
       "HBox(children=(IntProgress(value=0, max=2000), HTML(value='')))"
      ]
     },
     "metadata": {},
     "output_type": "display_data"
    }
   ],
   "source": [
    "# fc8_features = []\n",
    "for i in tqdm(range(len(test_data['X']))):\n",
    "    unsque = test_feature_array[i].unsqueeze(0)\n",
    "    pickle.dump(alexnet_model(unsque), pickle_out)\n",
    "#     fc8_features.append(alexnet_model(tesnor_array[i]))\n",
    "pickle_out.close()"
   ]
  },
  {
   "cell_type": "code",
   "execution_count": 74,
   "metadata": {},
   "outputs": [],
   "source": [
    "pickle_out.close()"
   ]
  },
  {
   "cell_type": "code",
   "execution_count": 19,
   "metadata": {},
   "outputs": [
    {
     "data": {
      "application/vnd.jupyter.widget-view+json": {
       "model_id": "15fbd35d3f764a40b83c2311e3b3323d",
       "version_major": 2,
       "version_minor": 0
      },
      "text/plain": [
       "HBox(children=(IntProgress(value=0, max=2000), HTML(value='')))"
      ]
     },
     "metadata": {},
     "output_type": "display_data"
    },
    {
     "name": "stdout",
     "output_type": "stream",
     "text": [
      "\n"
     ]
    }
   ],
   "source": [
    "test_file = open(\"test_fc8_features.pickle\", 'rb')\n",
    "test_fc8_features = []\n",
    "for i in tqdm(range(len(test_data['X']))):\n",
    "    val = pickle.load(test_file).detach().numpy()\n",
    "    test_fc8_features.append(numpy.reshape(val, (1000)))\n",
    "test_file.close()"
   ]
  },
  {
   "cell_type": "code",
   "execution_count": 6,
   "metadata": {},
   "outputs": [],
   "source": []
  },
  {
   "cell_type": "code",
   "execution_count": 33,
   "metadata": {},
   "outputs": [],
   "source": [
    "pickle_out = open(\"fc8_features_new.pickle\",\"wb\")"
   ]
  },
  {
   "cell_type": "code",
   "execution_count": 58,
   "metadata": {},
   "outputs": [],
   "source": [
    "pickle_out = open(\"features_new.pickle\",\"wb\")"
   ]
  },
  {
   "cell_type": "code",
   "execution_count": 34,
   "metadata": {},
   "outputs": [
    {
     "data": {
      "application/vnd.jupyter.widget-view+json": {
       "model_id": "385b43325a1a407f97bba80b9cbc7851",
       "version_major": 2,
       "version_minor": 0
      },
      "text/plain": [
       "HBox(children=(IntProgress(value=0, max=10000), HTML(value='')))"
      ]
     },
     "metadata": {},
     "output_type": "display_data"
    },
    {
     "name": "stdout",
     "output_type": "stream",
     "text": [
      "\n"
     ]
    }
   ],
   "source": [
    "# fc8_features = []\n",
    "for i in tqdm(range(num_images)):\n",
    "    unsque = tensor_array[i].unsqueeze(0)\n",
    "    pickle.dump(alexnet_model(unsque), pickle_out)\n",
    "#     fc8_features.append(alexnet_model(tesnor_array[i]))"
   ]
  },
  {
   "cell_type": "code",
   "execution_count": 37,
   "metadata": {
    "scrolled": false
   },
   "outputs": [],
   "source": [
    "pickle_out.close()"
   ]
  },
  {
   "cell_type": "code",
   "execution_count": 13,
   "metadata": {},
   "outputs": [
    {
     "data": {
      "application/vnd.jupyter.widget-view+json": {
       "model_id": "cbd2d72100754367abadc2348cb58bda",
       "version_major": 2,
       "version_minor": 0
      },
      "text/plain": [
       "HBox(children=(IntProgress(value=0, max=10000), HTML(value='')))"
      ]
     },
     "metadata": {},
     "output_type": "display_data"
    },
    {
     "name": "stdout",
     "output_type": "stream",
     "text": [
      "\n"
     ]
    }
   ],
   "source": [
    "file = open(\"fc8_features_new.pickle\", 'rb')\n",
    "fc8_features = []\n",
    "for i in tqdm(range(num_images)):\n",
    "    val = pickle.load(file).detach().numpy()\n",
    "    fc8_features.append(numpy.reshape(val, (1000)))\n",
    "file.close()"
   ]
  },
  {
   "cell_type": "code",
   "execution_count": 21,
   "metadata": {},
   "outputs": [
    {
     "data": {
      "text/plain": [
       "SVC(C=0.001, cache_size=200, class_weight=None, coef0=0.0,\n",
       "  decision_function_shape='ovr', degree=3, gamma='auto', kernel='linear',\n",
       "  max_iter=-1, probability=False, random_state=None, shrinking=True,\n",
       "  tol=0.001, verbose=False)"
      ]
     },
     "execution_count": 21,
     "metadata": {},
     "output_type": "execute_result"
    }
   ],
   "source": [
    "classifier = svm.SVC(kernel = 'linear', C = 0.0001)\n",
    "classifier.fit(fc8_features, train_data['Y'])"
   ]
  },
  {
   "cell_type": "code",
   "execution_count": null,
   "metadata": {},
   "outputs": [],
   "source": [
    "C_dict = {'C' : [1000, 100, 10, 2, 1, 0.1, 0.01, 0.001 0.005]}        \n",
    "classifier = GridSearchCV(svm.SVC(kernel = 'linear'), C_dict)\n",
    "classifier.fit(fc8_features, train_data['Y'])"
   ]
  },
  {
   "cell_type": "code",
   "execution_count": 37,
   "metadata": {},
   "outputs": [
    {
     "name": "stdout",
     "output_type": "stream",
     "text": [
      "0.865\n"
     ]
    }
   ],
   "source": [
    "predictions = classifier.predict(test_fc8_features)\n",
    "print(accuracy_score(predictions, test_data['Y']))"
   ]
  },
  {
   "cell_type": "code",
   "execution_count": 24,
   "metadata": {},
   "outputs": [],
   "source": [
    "pickle_out = open(\"classifier_87per\",\"wb\")\n",
    "pickle.dump(classifier, pickle_out)\n",
    "pickle_out.close()"
   ]
  },
  {
   "cell_type": "code",
   "execution_count": 30,
   "metadata": {},
   "outputs": [
    {
     "name": "stdout",
     "output_type": "stream",
     "text": [
      "[[825. 175.]\n",
      " [ 95. 905.]]\n"
     ]
    }
   ],
   "source": [
    "print(make_confusion_matrix(test_data['Y'], predictions, 2))"
   ]
  },
  {
   "cell_type": "code",
   "execution_count": 35,
   "metadata": {},
   "outputs": [
    {
     "data": {
      "image/png": "[encoded data removed]",
      "text/plain": [
       "<Figure size 432x288 with 1 Axes>"
      ]
     },
     "metadata": {
      "needs_background": "light"
     },
     "output_type": "display_data"
    }
   ],
   "source": [
    "plot_roc_curve(fc8_features, train_data['Y'], classifier)"
   ]
  },
  {
   "cell_type": "code",
   "execution_count": 29,
   "metadata": {},
   "outputs": [],
   "source": [
    "def make_confusion_matrix(y_test, y_predicted, num_classes):\n",
    "    confusion_matrix = numpy.zeros(shape = (num_classes, num_classes))\n",
    "    for i in range(len(y_test)):\n",
    "        confusion_matrix[y_test[i], y_predicted[i]] += 1\n",
    "\n",
    "    return confusion_matrix"
   ]
  },
  {
   "cell_type": "code",
   "execution_count": 31,
   "metadata": {},
   "outputs": [],
   "source": [
    "def plot_roc_curve(x_test, y_true, classifier):\n",
    "    fpr = dict()\n",
    "    tpr = dict()\n",
    "    y_score = classifier.decision_function(x_test)\n",
    "    fpr, tpr, thresholds = roc_curve(y_true, y_score)\n",
    "    area_under_curve = auc(fpr, tpr)\n",
    "    plt.plot(fpr, tpr, color='darkorange', label='ROC curve area = %0.2f' %area_under_curve)\n",
    "    \n",
    "    plt.plot([0, 1], [0, 1], 'k--')\n",
    "    plt.xlim([0.0, 1.0])\n",
    "    plt.ylim([0.0, 1.05])\n",
    "    plt.legend()\n",
    "    plt.show()\n",
    "#Roc curve and confusion matrix codes taken directly from last assignment(A2) code"
   ]
  }
 ],
 "metadata": {
  "kernelspec": {
   "display_name": "Python 3",
   "language": "python",
   "name": "python3"
  },
  "language_info": {
   "codemirror_mode": {
    "name": "ipython",
    "version": 3
   },
   "file_extension": ".py",
   "mimetype": "text/x-python",
   "name": "python",
   "nbconvert_exporter": "python",
   "pygments_lexer": "ipython3",
   "version": "3.6.1"
  }
 },
 "nbformat": 4,
 "nbformat_minor": 2
}
